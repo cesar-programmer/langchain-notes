{
 "cells": [
  {
   "cell_type": "code",
   "execution_count": 1,
   "id": "fd315a0a",
   "metadata": {},
   "outputs": [
    {
     "data": {
      "text/plain": [
       "'Hola, ¿en qué puedo ayudarte?'"
      ]
     },
     "execution_count": 1,
     "metadata": {},
     "output_type": "execute_result"
    }
   ],
   "source": [
    "from langchain_core.messages import AIMessage, HumanMessage, SystemMessage, ToolMessage\n",
    "# hay diferentes tipos de mensajes, cada uno con su propio propósito y uso\n",
    "# AIMessage: Mensaje generado por la IA\n",
    "# HumanMessage: Mensaje generado por un humano\n",
    "# SystemMessage: Mensaje del sistema, generalmente usado para instrucciones o contexto\n",
    "# ToolMessage: Mensaje relacionado con una herramienta específica\n",
    "\n",
    "aI_msg = AIMessage(content=\"Hola, ¿en qué puedo ayudarte?\")\n",
    "aI_msg.text  # Accede al contenido del mensaje"
   ]
  },
  {
   "cell_type": "code",
   "execution_count": 2,
   "id": "bcc525b6",
   "metadata": {},
   "outputs": [
    {
     "data": {
      "text/plain": [
       "'¿Cuál es la capital de Francia?'"
      ]
     },
     "execution_count": 2,
     "metadata": {},
     "output_type": "execute_result"
    }
   ],
   "source": [
    "human_msg = HumanMessage(content=\"¿Cuál es la capital de Francia?\")\n",
    "human_msg.text"
   ]
  },
  {
   "cell_type": "code",
   "execution_count": 3,
   "id": "997b48e8",
   "metadata": {},
   "outputs": [
    {
     "name": "stdout",
     "output_type": "stream",
     "text": [
      "==================================\u001b[1m Ai Message \u001b[0m==================================\n",
      "\n",
      "Hola, ¿en qué puedo ayudarte?\n",
      "================================\u001b[1m Human Message \u001b[0m=================================\n",
      "\n",
      "¿Cuál es la capital de Francia?\n"
     ]
    }
   ],
   "source": [
    "history = [aI_msg, human_msg]\n",
    "for m in history:\n",
    "\tm.pretty_print()  # Imprime el mensaje de manera legible"
   ]
  },
  {
   "cell_type": "code",
   "execution_count": 4,
   "id": "d8a79f8f",
   "metadata": {},
   "outputs": [
    {
     "data": {
      "text/plain": [
       "[AIMessage(content='Hola, ¿en qué puedo ayudarte?', additional_kwargs={}, response_metadata={}),\n",
       " HumanMessage(content='¿Cuál es la capital de Francia?', additional_kwargs={}, response_metadata={}),\n",
       " AIMessage(content='París es la capital de Francia.', additional_kwargs={}, response_metadata={})]"
      ]
     },
     "execution_count": 4,
     "metadata": {},
     "output_type": "execute_result"
    }
   ],
   "source": [
    "history + [AIMessage(content=\"París es la capital de Francia.\")]"
   ]
  }
 ],
 "metadata": {
  "kernelspec": {
   "display_name": "langgraph-py12",
   "language": "python",
   "name": "python3"
  },
  "language_info": {
   "codemirror_mode": {
    "name": "ipython",
    "version": 3
   },
   "file_extension": ".py",
   "mimetype": "text/x-python",
   "name": "python",
   "nbconvert_exporter": "python",
   "pygments_lexer": "ipython3",
   "version": "3.12.11"
  }
 },
 "nbformat": 4,
 "nbformat_minor": 5
}
