{
 "cells": [
  {
   "cell_type": "code",
   "execution_count": 1,
   "id": "3692c18c",
   "metadata": {},
   "outputs": [
    {
     "name": "stdout",
     "output_type": "stream",
     "text": [
      "# Instrucciones para el Asistente de IA\n",
      "\n",
      "Recuerda que hoy es 27 de junio de 2024\n",
      "\n",
      "## Rol\n",
      "Eres un experto en marketing digital con 10 años de experiencia.\n",
      "\n",
      "## Tarea\n",
      "Analiza el siguiente texto de un anuncio y proporciona 3 sugerencias para mejorarlo, enfocándote en el llamado a la acción (CTA).\n",
      "\n",
      "## Texto del Anuncio\n",
      "Compra nuestro producto ahora y mejora tu vida.\n",
      "\n",
      "## Formato de Salida\n",
      "- *Sugerencia 1:* [Tu primera sugerencia]\n",
      "- *Sugerencia 2:* [Tu segunda sugerencia]\n",
      "- *Sugerencia 3:* [Tu tercera sugerencia]\n",
      "\n"
     ]
    }
   ],
   "source": [
    "from langchain_core.prompts import PromptTemplate\n",
    "\n",
    "template = \"\"\"\\\n",
    "# Instrucciones para el Asistente de IA\n",
    "\n",
    "Recuerda que hoy es {fecha_actual}\n",
    "\n",
    "## Rol\n",
    "Eres un experto en marketing digital con 10 años de experiencia.\n",
    "\n",
    "## Tarea\n",
    "Analiza el siguiente texto de un anuncio y proporciona 3 sugerencias para mejorarlo, enfocándote en el llamado a la acción (CTA).\n",
    "\n",
    "## Texto del Anuncio\n",
    "{texto_anuncio}\n",
    "\n",
    "## Formato de Salida\n",
    "- *Sugerencia 1:* [Tu primera sugerencia]\n",
    "- *Sugerencia 2:* [Tu segunda sugerencia]\n",
    "- *Sugerencia 3:* [Tu tercera sugerencia]\n",
    "\"\"\"\n",
    "\n",
    "\n",
    "prompt_template = PromptTemplate.from_template(template)\n",
    "\n",
    "prompt = prompt_template.format(fecha_actual=\"27 de junio de 2024\", texto_anuncio=\"Compra nuestro producto ahora y mejora tu vida.\")\n",
    "print(prompt)"
   ]
  },
  {
   "cell_type": "code",
   "execution_count": 2,
   "id": "9f221778",
   "metadata": {},
   "outputs": [
    {
     "name": "stdout",
     "output_type": "stream",
     "text": [
      "# Instrucciones para el Asistente de IA\n",
      "\n",
      "Recuerda que hoy es 2025-10-18\n",
      "\n",
      "## Rol\n",
      "Eres un experto en marketing digital con 10 años de experiencia.\n",
      "\n",
      "## Tarea\n",
      "Analiza el siguiente texto de un anuncio y proporciona 3 sugerencias para mejorarlo, enfocándote en el llamado a la acción (CTA).\n",
      "\n",
      "## Texto del Anuncio\n",
      "Este es un anuncio de prueba\n",
      "\n",
      "## Formato de Salida\n",
      "- *Sugerencia 1:* [Tu primera sugerencia]\n",
      "- *Sugerencia 2:* [Tu segunda sugerencia]\n",
      "- *Sugerencia 3:* [Tu tercera sugerencia]\n",
      "\n"
     ]
    }
   ],
   "source": [
    "import datetime\n",
    "today = datetime.datetime.now().strftime(\"%Y-%m-%d\")\n",
    "prompt_template = PromptTemplate.from_template(template, partial_variables={\"fecha_actual\": today})\n",
    "prompt = prompt_template.format(texto_anuncio=\"Este es un anuncio de prueba\")\n",
    "print(prompt)"
   ]
  },
  {
   "cell_type": "code",
   "execution_count": 3,
   "id": "f244aecf",
   "metadata": {},
   "outputs": [
    {
     "name": "stdout",
     "output_type": "stream",
     "text": [
      "Your are a helpful that responds to the user's \n",
      "\n",
      "The user's message is: Como puedo mejorar mi sitio web?\n"
     ]
    }
   ],
   "source": [
    "template = \"\"\"\\\n",
    "Your are a helpful that responds to the user's \n",
    "\n",
    "{% if name %}\n",
    "The user's name is {{ name }} and you can call them by that name\n",
    "{% endif -%}\n",
    "\n",
    "The user's message is: {{ user_message }}\n",
    "\"\"\"\n",
    "prompt_template = PromptTemplate.from_template(template, template_format=\"jinja2\")\n",
    "prompt = prompt_template.format(user_message=\"Como puedo mejorar mi sitio web?\")\n",
    "print(prompt)"
   ]
  }
 ],
 "metadata": {
  "kernelspec": {
   "display_name": "agents-proyect (3.13.5)",
   "language": "python",
   "name": "python3"
  },
  "language_info": {
   "codemirror_mode": {
    "name": "ipython",
    "version": 3
   },
   "file_extension": ".py",
   "mimetype": "text/x-python",
   "name": "python",
   "nbconvert_exporter": "python",
   "pygments_lexer": "ipython3",
   "version": "3.13.5"
  }
 },
 "nbformat": 4,
 "nbformat_minor": 5
}
