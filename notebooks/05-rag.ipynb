{
 "cells": [
  {
   "cell_type": "code",
   "execution_count": 6,
   "id": "9bf7acf0",
   "metadata": {},
   "outputs": [
    {
     "data": {
      "text/plain": [
       "True"
      ]
     },
     "execution_count": 6,
     "metadata": {},
     "output_type": "execute_result"
    }
   ],
   "source": [
    "from dotenv import load_dotenv\n",
    "load_dotenv()  # Cargar variables de entorno desde el archivo .env"
   ]
  },
  {
   "cell_type": "code",
   "execution_count": null,
   "id": "87f69df4",
   "metadata": {},
   "outputs": [],
   "source": [
    "from langchain.chat_models import init_chat_model\n",
    "chat_llm = init_chat_model(\"gpt-4o-mini\",model_provider=\"openai\", temperature=0)\n"
   ]
  },
  {
   "cell_type": "code",
   "execution_count": 12,
   "id": "a881dbc9",
   "metadata": {},
   "outputs": [],
   "source": [
    "openai_vector_store_ids = [\n",
    "  \"vs_68f1a1e722508191ba51713db1cbf9a1\",\n",
    "]\n",
    "\n",
    "file_search_tool = {\n",
    "  \"type\": \"file_search\",\n",
    "  \"vector_store_ids\": openai_vector_store_ids,\n",
    "}\n",
    "\n",
    "llm_with_tools = chat_llm.bind_tools([file_search_tool])"
   ]
  },
  {
   "cell_type": "code",
   "execution_count": 13,
   "id": "c759da82",
   "metadata": {},
   "outputs": [
    {
     "name": "stdout",
     "output_type": "stream",
     "text": [
      "==================================\u001b[1m Ai Message \u001b[0m==================================\n",
      "\n",
      "[{'id': 'fs_06ab565ae2e39e9d0068f1afdc50248195a0735686f73dfe35', 'queries': ['cómo mejorar el rendimiento de un website', 'mejorar rendimiento sitio web', 'optimización de website'], 'status': 'completed', 'type': 'file_search_call'}, {'type': 'text', 'text': 'Para mejorar el rendimiento de tu website, aquí tienes algunas estrategias efectivas:\\n\\n1. **Optimización de Imágenes**: Asegúrate de que las imágenes estén correctamente dimensionadas y utiliza formatos de próxima generación (como WebP) para reducir el tamaño de los archivos.\\n\\n2. **Eliminación de Recursos que Bloquean el Renderizado**: Identifica y elimina scripts o estilos que impidan que la página se cargue rápidamente.\\n\\n3. **Minificación de JavaScript y CSS**: Reduce el tamaño de tus archivos JavaScript y CSS eliminando espacios en blanco y comentarios innecesarios.\\n\\n4. **Compresión de Texto**: Habilita la compresión de texto (como Gzip) para reducir el tamaño de los archivos que se envían al navegador.\\n\\n5. **Uso de AMP (Accelerated Mobile Pages)**: Considera implementar AMP para crear páginas que se carguen casi instantáneamente en dispositivos móviles.\\n\\n6. **Establecimiento de un Presupuesto de Rendimiento**: Define límites en métricas clave de rendimiento y asegúrate de cumplirlos durante el desarrollo.\\n\\n7. **Herramientas de Medición**: Utiliza herramientas como Lighthouse, PageSpeed Insights y WebPageTest para evaluar y mejorar el rendimiento de tu sitio.\\n\\nImplementar estas prácticas no solo mejorará la velocidad de carga de tu sitio, sino que también puede aumentar la satisfacción del usuario y las tasas de conversión.', 'annotations': [{'file_id': 'file-95NzGHcj9sRfaz6Cee4wPL', 'filename': 'Mobile_Site_Speed_Playbook.pdf', 'index': 275, 'type': 'file_citation'}, {'file_id': 'file-95NzGHcj9sRfaz6Cee4wPL', 'filename': 'Mobile_Site_Speed_Playbook.pdf', 'index': 424, 'type': 'file_citation'}, {'file_id': 'file-95NzGHcj9sRfaz6Cee4wPL', 'filename': 'Mobile_Site_Speed_Playbook.pdf', 'index': 574, 'type': 'file_citation'}, {'file_id': 'file-95NzGHcj9sRfaz6Cee4wPL', 'filename': 'Mobile_Site_Speed_Playbook.pdf', 'index': 714, 'type': 'file_citation'}, {'file_id': 'file-95NzGHcj9sRfaz6Cee4wPL', 'filename': 'Mobile_Site_Speed_Playbook.pdf', 'index': 868, 'type': 'file_citation'}, {'file_id': 'file-95NzGHcj9sRfaz6Cee4wPL', 'filename': 'Mobile_Site_Speed_Playbook.pdf', 'index': 1023, 'type': 'file_citation'}, {'file_id': 'file-95NzGHcj9sRfaz6Cee4wPL', 'filename': 'Mobile_Site_Speed_Playbook.pdf', 'index': 1179, 'type': 'file_citation'}], 'id': 'msg_06ab565ae2e39e9d0068f1afde55d481958f88f3c355b3c0ab'}]\n"
     ]
    }
   ],
   "source": [
    "response = llm_with_tools.invoke(\"como puedo mejorar el rendimiento de mi website?\")\n",
    "response.pretty_print()"
   ]
  },
  {
   "cell_type": "code",
   "execution_count": null,
   "id": "ecbbda34",
   "metadata": {},
   "outputs": [],
   "source": [
    "response = llm_with_tools.invoke(\"como puedo mejorar el rendimiento de mi website?\")\n",
    "response.pretty_print()"
   ]
  }
 ],
 "metadata": {
  "kernelspec": {
   "display_name": "langgraph-py12",
   "language": "python",
   "name": "python3"
  },
  "language_info": {
   "codemirror_mode": {
    "name": "ipython",
    "version": 3
   },
   "file_extension": ".py",
   "mimetype": "text/x-python",
   "name": "python",
   "nbconvert_exporter": "python",
   "pygments_lexer": "ipython3",
   "version": "3.12.11"
  }
 },
 "nbformat": 4,
 "nbformat_minor": 5
}
