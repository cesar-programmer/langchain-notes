{
 "cells": [
  {
   "cell_type": "code",
   "execution_count": 1,
   "id": "7971aaef",
   "metadata": {},
   "outputs": [
    {
     "name": "stdout",
     "output_type": "stream",
     "text": [
      "==================================\u001b[1m Ai Message \u001b[0m==================================\n",
      "\n",
      "Hola César, gracias por compartir tu número. Lo tengo anotado.\n",
      "\n",
      "¿Hay algo más en lo que pueda ayudarte hoy?\n"
     ]
    }
   ],
   "source": [
    "from langchain.chat_models import init_chat_model\n",
    "from dotenv import load_dotenv\n",
    "load_dotenv()\n",
    "\n",
    "llm = init_chat_model(\"gemini-2.5-flash\",model_provider=\"google_genai\", temperature=0)\n",
    "response = llm.invoke( 'hola soy cesar y mi numero es 123456789' )\n",
    "response.pretty_print()"
   ]
  },
  {
   "cell_type": "code",
   "execution_count": 6,
   "id": "7c1259f9",
   "metadata": {},
   "outputs": [
    {
     "data": {
      "text/plain": [
       "'Cesar'"
      ]
     },
     "execution_count": 6,
     "metadata": {},
     "output_type": "execute_result"
    }
   ],
   "source": [
    "from pydantic import BaseModel, Field\n",
    "\n",
    "class ContactInfo(BaseModel):\n",
    "\tname: str = Field(description=\"The person's full name\")\n",
    "\tphone: str = Field(description=\"The person's phone number\")\n",
    "\temail: str = Field(description=\"The person's email address\")\n",
    "\ttone: int = Field(description=\"The tone of the message, e.g., formal, informal, friendly, etc.\", ge=0, le=100)\n",
    "\tage: int = Field(description=\"The age of the person.\")\n",
    "\tsentiment: str = Field(description=\"The sentiment of the message, e.g., positive, negative, neutral.\")\n",
    "\n",
    "llm_with_structured_output = llm.with_structured_output(schema=ContactInfo)\n",
    "\n",
    "# message to extract contact info\n",
    "messages = [\n",
    "\t(\"system\", \"You are a helpful assistant that extracts contact information from messages.\"),\n",
    "\t(\"user\", \"Extract the contact information from the following message: 'Hola, mi nombre es Cesar, mi numero es 123456789, mi correo es cesar@example.com, tengo 30 años.'\")\n",
    "]\n",
    "\n",
    "response =llm_with_structured_output.invoke(messages)\n",
    "\n",
    "response.name"
   ]
  }
 ],
 "metadata": {
  "kernelspec": {
   "display_name": "langgraph-py12",
   "language": "python",
   "name": "python3"
  },
  "language_info": {
   "codemirror_mode": {
    "name": "ipython",
    "version": 3
   },
   "file_extension": ".py",
   "mimetype": "text/x-python",
   "name": "python",
   "nbconvert_exporter": "python",
   "pygments_lexer": "ipython3",
   "version": "3.12.11"
  }
 },
 "nbformat": 4,
 "nbformat_minor": 5
}
