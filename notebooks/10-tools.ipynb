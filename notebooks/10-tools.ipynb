{
 "cells": [
  {
   "cell_type": "code",
   "execution_count": 24,
   "id": "05855a7c",
   "metadata": {},
   "outputs": [
    {
     "data": {
      "text/plain": [
       "True"
      ]
     },
     "execution_count": 24,
     "metadata": {},
     "output_type": "execute_result"
    }
   ],
   "source": [
    "from dotenv import load_dotenv\n",
    "load_dotenv()"
   ]
  },
  {
   "cell_type": "code",
   "execution_count": 25,
   "id": "4a86071b",
   "metadata": {},
   "outputs": [
    {
     "name": "stdout",
     "output_type": "stream",
     "text": [
      "==================================\u001b[1m Ai Message \u001b[0m==================================\n",
      "\n",
      "¡Hola, César! Mucho gusto.\n",
      "\n",
      "Gracias por la información, pero es muy importante que sepas algo sobre cómo funciono: como inteligencia artificial, no tengo memoria de nuestras conversaciones y **no guardo datos personales** como tu nombre o tu número.\n",
      "\n",
      "De hecho, por tu propia seguridad y privacidad, te recomiendo **no compartir información sensible** como esta en internet.\n",
      "\n",
      "Ahora que sabes esto, ¿en qué puedo ayudarte hoy?\n"
     ]
    }
   ],
   "source": [
    "from langchain.chat_models import init_chat_model\n",
    "from dotenv import load_dotenv\n",
    "load_dotenv()\n",
    "\n",
    "llm = init_chat_model(\"gemini-2.5-pro\",model_provider=\"google_genai\", temperature=0)\n",
    "response = llm.invoke( 'hola soy cesar y mi numero es 123456789' )\n",
    "response.pretty_print()"
   ]
  },
  {
   "cell_type": "code",
   "execution_count": null,
   "id": "b0be54ab",
   "metadata": {},
   "outputs": [],
   "source": [
    "response = llm.invoke( 'cual es el clima de la ciudad de tijuana?')\n",
    "response.pretty_print()"
   ]
  },
  {
   "cell_type": "code",
   "execution_count": 26,
   "id": "3e1993f4",
   "metadata": {},
   "outputs": [
    {
     "name": "stdout",
     "output_type": "stream",
     "text": [
      "==================================\u001b[1m Ai Message \u001b[0m==================================\n",
      "\n",
      "¡Hola! Claro que sí. Con gusto te ayudo.\n",
      "\n",
      "Estos son los productos que tenemos disponibles:\n",
      "\n",
      "*   **Computadora**\n",
      "*   **Mouse**\n",
      "*   **Teclado**\n",
      "*   **Audífonos**\n",
      "*   **Mauspad** (Mousepad)\n",
      "\n",
      "¿Estás buscando armar un equipo completo desde cero o necesitas reemplazar o añadir algún accesorio?\n",
      "\n",
      "Cuéntame un poco más sobre lo que necesitas, ¿es para trabajar, para estudiar, para jugar? Así puedo darte la mejor recomendación. ¡Estoy para ayudarte\n"
     ]
    }
   ],
   "source": [
    "system_prompt = \"\"\"\n",
    "Eres un asistente de ventas que ayuda a los clientes a encontrar productos adecuados según sus necesidades.\n",
    "y tus productos son los siguientes:\n",
    "- Computadora\n",
    "- mouse\n",
    "- teclado\n",
    "- audifionos\n",
    "- mauspad\n",
    "\"\"\"\n",
    "message = [\n",
    "  (\"system\", system_prompt),\n",
    "  (\"user\", \"Dime los productos que tienes para vender\")\n",
    "]\n",
    "\n",
    "response = llm.invoke(message)\n",
    "response.pretty_print()"
   ]
  },
  {
   "cell_type": "code",
   "execution_count": null,
   "id": "ff12e9c0",
   "metadata": {},
   "outputs": [],
   "source": [
    "from langchain_core.tools import tool\n",
    "import requests\n",
    "from typing import Optional\n",
    "# El \"Razonamiento\" del Modelo: El modelo (Gemini 2.5 Pro) es lo suficientemente inteligente como para analizar la situación:\n",
    "\n",
    "# \"El usuario quiere la lista de productos.\"\n",
    "# \"Tengo una herramienta llamada get_products para eso.\"\n",
    "# \"Pero... la herramienta get_products me exige un argumento price que no tengo.\"\n",
    "# \"Como no puedo llamar a la herramienta sin el argumento requerido, no la llamaré. En su lugar,\n",
    "#  responderé con texto, probablemente pidiendo más información o dando una respuesta general.\"\n",
    "@tool(\"get_products\", description=\"Get the products that the store offers and filter by price.\")\n",
    "def get_products(price: Optional[int] = None):\n",
    "\t\"\"\"Get the products from the Fake Store API.\"\"\"\n",
    "\tresponse = requests.get(\"https://api.escuelajs.co/api/v1/products\")\n",
    "\tproducts = response.json()\n",
    "\n",
    "\treturn \"\".join([f\"{product['title']} - ${product['price']}\" for product in products])"
   ]
  },
  {
   "cell_type": "code",
   "execution_count": 32,
   "id": "25e741ed",
   "metadata": {},
   "outputs": [
    {
     "data": {
      "text/plain": [
       "'Artss - $11122Artix - $123123Alpha1760905210304 - $100Furniture product_RHWV - $10Furniture product - $10Furniture product_9L7X - $10Furniture product_JVHW - $10Furniture product_SANL - $10Chairs product_OT1Z - $12aabxdc - $1110'"
      ]
     },
     "execution_count": 32,
     "metadata": {},
     "output_type": "execute_result"
    }
   ],
   "source": [
    "get_products.invoke({\"price\": 100})"
   ]
  },
  {
   "cell_type": "code",
   "execution_count": 29,
   "id": "97833b79",
   "metadata": {},
   "outputs": [
    {
     "data": {
      "text/plain": [
       "'The weather in tijuana is 27.4C with 13.4km/h of wind.'"
      ]
     },
     "execution_count": 29,
     "metadata": {},
     "output_type": "execute_result"
    }
   ],
   "source": [
    "@tool(\"get_weather\", description=\"Get the weather of a city\")\n",
    "def get_weather(city: str):\n",
    "    response = requests.get(f\"https://geocoding-api.open-meteo.com/v1/search?name={city}&count=1\")\n",
    "    data = response.json()\n",
    "    latitude = data[\"results\"][0][\"latitude\"]\n",
    "    longitude = data[\"results\"][0][\"longitude\"]\n",
    "    response = requests.get(f\"https://api.open-meteo.com/v1/forecast?latitude={latitude}&longitude={longitude}&current_weather=true\")\n",
    "    data = response.json()\n",
    "    response = f\"The weather in {city} is {data[\"current_weather\"][\"temperature\"]}C with {data[\"current_weather\"][\"windspeed\"]}km/h of wind.\"\n",
    "    return response\n",
    "\n",
    "get_weather.invoke({\"city\": \"tijuana\"})"
   ]
  },
  {
   "cell_type": "code",
   "execution_count": 33,
   "id": "b3e16ba2",
   "metadata": {},
   "outputs": [
    {
     "data": {
      "text/plain": [
       "[{'name': 'get_products',\n",
       "  'args': {},\n",
       "  'id': 'b1a6f7c8-7f66-4932-a956-0d07bfd07b85',\n",
       "  'type': 'tool_call'}]"
      ]
     },
     "execution_count": 33,
     "metadata": {},
     "output_type": "execute_result"
    }
   ],
   "source": [
    "system_prompt = \"\"\"\n",
    "Eres un asistente de ventas que ayuda a los clientes a encontrar los productos que necesitan y dar el clima de la ciudad\n",
    "\n",
    "Tus tools son:\n",
    "- get_products: para obtener los productos que ofreces en la tienda\n",
    "- get_weather: para obtener el clima de la ciudad\n",
    "\"\"\"\n",
    "messages = [\n",
    "    (\"system\", system_prompt),\n",
    "    (\"user\", \"Dime los productos que ofreces en la tienda\")\n",
    "]\n",
    "llm_with_tools = llm.bind_tools([get_products, get_weather])\n",
    "response = llm_with_tools.invoke(messages)\n",
    "response.tool_calls"
   ]
  },
  {
   "cell_type": "code",
   "execution_count": 34,
   "id": "ea52591d",
   "metadata": {},
   "outputs": [
    {
     "data": {
      "text/plain": [
       "'¡Hola! ¿Cómo estás? Soy tu asistente de ventas. ¿En qué puedo ayudarte hoy? Puedo buscar productos o darte el pronóstico del tiempo.'"
      ]
     },
     "execution_count": 34,
     "metadata": {},
     "output_type": "execute_result"
    }
   ],
   "source": [
    "messages = [\n",
    "    (\"system\", system_prompt),\n",
    "    (\"user\", \"Hola, que tal?\")\n",
    "]\n",
    "response = llm_with_tools.invoke(messages)\n",
    "response.text"
   ]
  },
  {
   "cell_type": "code",
   "execution_count": 37,
   "id": "6b617c65",
   "metadata": {},
   "outputs": [
    {
     "data": {
      "text/plain": [
       "[{'name': 'get_weather',\n",
       "  'args': {'city': 'Mexicali'},\n",
       "  'id': '368bb953-7705-478f-b785-db3e98206ac0',\n",
       "  'type': 'tool_call'}]"
      ]
     },
     "execution_count": 37,
     "metadata": {},
     "output_type": "execute_result"
    }
   ],
   "source": [
    "system_prompt = \"\"\"\n",
    "Eres un asistente de ventas que ayuda a los clientes a encontrar los productos que necesitan y dar el clima de la ciudad\n",
    "\n",
    "Tus tools son:\n",
    "- get_products: para obtener los productos que ofreces en la tienda\n",
    "- get_weather: para obtener el clima de la ciudad\n",
    "\"\"\"\n",
    "messages = [\n",
    "    (\"system\", system_prompt),\n",
    "    (\"user\", \"Cual es el clima en la capital de baja california?\")\n",
    "]\n",
    "llm_with_tools = llm.bind_tools([get_products, get_weather])\n",
    "response = llm_with_tools.invoke(messages)\n",
    "response.tool_calls"
   ]
  }
 ],
 "metadata": {
  "kernelspec": {
   "display_name": "agents-proyect (3.13.5)",
   "language": "python",
   "name": "python3"
  },
  "language_info": {
   "codemirror_mode": {
    "name": "ipython",
    "version": 3
   },
   "file_extension": ".py",
   "mimetype": "text/x-python",
   "name": "python",
   "nbconvert_exporter": "python",
   "pygments_lexer": "ipython3",
   "version": "3.13.5"
  }
 },
 "nbformat": 4,
 "nbformat_minor": 5
}
