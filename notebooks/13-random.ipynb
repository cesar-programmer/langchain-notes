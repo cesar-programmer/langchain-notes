{
 "cells": [
  {
   "cell_type": "code",
   "execution_count": 4,
   "id": "3bc9d59b",
   "metadata": {},
   "outputs": [
    {
     "name": "stdout",
     "output_type": "stream",
     "text": [
      "Selected nodes: ['node2', 'node1', 'node4']\n"
     ]
    }
   ],
   "source": [
    "import random\n",
    "\n",
    "nodes = [\"node1\", \"node2\", \"node3\", \"node4\", \"node5\"]\n",
    "nodes = random.sample(nodes, random.randint(1, len(nodes)))\n",
    "print(\"Selected nodes:\", nodes)"
   ]
  }
 ],
 "metadata": {
  "kernelspec": {
   "display_name": "agents-proyect (3.13.5)",
   "language": "python",
   "name": "python3"
  },
  "language_info": {
   "codemirror_mode": {
    "name": "ipython",
    "version": 3
   },
   "file_extension": ".py",
   "mimetype": "text/x-python",
   "name": "python",
   "nbconvert_exporter": "python",
   "pygments_lexer": "ipython3",
   "version": "3.13.5"
  }
 },
 "nbformat": 4,
 "nbformat_minor": 5
}
